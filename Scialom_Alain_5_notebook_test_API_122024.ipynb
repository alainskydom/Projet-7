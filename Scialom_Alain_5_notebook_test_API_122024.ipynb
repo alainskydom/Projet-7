{
 "cells": [
  {
   "cell_type": "code",
   "execution_count": 1,
   "id": "6ffb7b43-36f4-408d-9d05-c0df92c32ca3",
   "metadata": {},
   "outputs": [],
   "source": [
    "from flask import request, jsonify\n",
    "import json\n",
    "import pickle\n",
    "import pandas as pd\n",
    "import numpy as np\n",
    "import pandas as pd\n",
    "import requests\n",
    "import io\n",
    "import sklearn\n",
    "import re"
   ]
  },
  {
   "cell_type": "code",
   "execution_count": 3,
   "id": "c735df5b-52ce-4c06-8476-33106d84331a",
   "metadata": {},
   "outputs": [],
   "source": [
    "df_ = pd.read_csv(\"df_api_1000.csv\")"
   ]
  },
  {
   "cell_type": "code",
   "execution_count": null,
   "id": "495d5d36-9b6d-4b2c-951f-19b432ecbecb",
   "metadata": {},
   "outputs": [],
   "source": []
  },
  {
   "cell_type": "code",
   "execution_count": 47,
   "id": "3af4ffb9-e6f8-46b3-9253-5e2d857f70e9",
   "metadata": {},
   "outputs": [],
   "source": [
    "client_id=4"
   ]
  },
  {
   "cell_type": "code",
   "execution_count": 49,
   "id": "c21aa384-355c-4fa4-a3a4-f85b5cc20dfb",
   "metadata": {},
   "outputs": [],
   "source": [
    "features = df_.loc[client_id, df_.columns].to_numpy().reshape(1, -1)"
   ]
  },
  {
   "cell_type": "code",
   "execution_count": 37,
   "id": "be2c39ef-0ac4-40be-b05b-3605ff93362c",
   "metadata": {},
   "outputs": [
    {
     "data": {
      "text/plain": [
       "array([[ 1.94252482e+01, -7.29900000e+03,  2.03270000e+04,\n",
       "        -4.94000000e+02, -1.10500000e+03, -1.73000000e+02,\n",
       "         2.28115769e+04,  1.58625000e+04,  2.73896000e+00,\n",
       "         1.88500000e-02, -1.21566667e+03,  1.41000000e-01]])"
      ]
     },
     "execution_count": 37,
     "metadata": {},
     "output_type": "execute_result"
    }
   ],
   "source": [
    "features"
   ]
  },
  {
   "cell_type": "code",
   "execution_count": 9,
   "id": "2650473c-3f60-4c44-a851-dcf9712b48cc",
   "metadata": {},
   "outputs": [],
   "source": [
    "# --- Define the API endpoint URL ---\n",
    "api_url_predict = \"https://backend-scoring.up.railway.app/\""
   ]
  },
  {
   "cell_type": "code",
   "execution_count": 51,
   "id": "9f9bed24-2427-412d-b859-196085ac6145",
   "metadata": {},
   "outputs": [],
   "source": [
    "# --- Define the JSON payload ---\n",
    "data = {\"client_id\": client_id}"
   ]
  },
  {
   "cell_type": "code",
   "execution_count": 41,
   "id": "dbccda62-04d7-4ab8-8412-79f071f54b3d",
   "metadata": {},
   "outputs": [
    {
     "data": {
      "text/plain": [
       "{'client_id': 5}"
      ]
     },
     "execution_count": 41,
     "metadata": {},
     "output_type": "execute_result"
    }
   ],
   "source": [
    "data"
   ]
  },
  {
   "cell_type": "code",
   "execution_count": 17,
   "id": "19391d21-c5f4-475b-b35a-7df64e1e8996",
   "metadata": {},
   "outputs": [],
   "source": [
    "# --- Set the headers ---\n",
    "headers = {\"Content-Type\": \"application/json\"}"
   ]
  },
  {
   "cell_type": "markdown",
   "id": "1767ee69-254e-4165-9b8d-f8576423ba57",
   "metadata": {},
   "source": [
    " response=request.get(api_url_predict, data=json.dumps(data), headers=headers)"
   ]
  },
  {
   "cell_type": "markdown",
   "id": "252fcd06-80d7-40ba-9930-7ebd00d7b014",
   "metadata": {},
   "source": [
    " print(\"\\n--- Testing /predict/ endpoint ---\")\n",
    "try:\n",
    "    response_download = requests.get(api_url_predict + \"predict\", data=json.dumps(data), headers=headers)\n",
    "\n",
    "    # Check the response status code\n",
    "    if response_download.status_code == 200:\n",
    "        print(\"Success! File downloaded.\")\n",
    "\n",
    "        # Get filename from the Content-Disposition header\n",
    "        content_disposition = response_download.headers.get(\"Content-Disposition\")\n",
    "        if content_disposition:\n",
    "            filename = content_disposition.split(\"filename=\")[1].strip('\"')\n",
    "        else:\n",
    "            filename = \"downloaded_prediction.csv\"  # Default filename\n",
    "\n",
    "        # Save the content to a file\n",
    "        with open(filename, \"wb\") as f:\n",
    "            f.write(response_download.content)\n",
    "        print(f\"File saved as: {filename}\")\n",
    "\n",
    "    else:\n",
    "        print(\"Error!\")\n",
    "        print(\"Status code:\", response_download.status_code)\n",
    "        print(\"Response text:\", response_download.text)\n",
    "\n",
    "except requests.exceptions.RequestException as e:\n",
    "    print(f\"An error occurred: {e}\")\n",
    "\n",
    "Pred = pd.read_csv(\"downloaded_prediction.csv\")"
   ]
  },
  {
   "cell_type": "code",
   "execution_count": 35,
   "id": "859d0176-c76f-423e-8c9c-0694f721cf18",
   "metadata": {},
   "outputs": [
    {
     "data": {
      "text/html": [
       "<div>\n",
       "<style scoped>\n",
       "    .dataframe tbody tr th:only-of-type {\n",
       "        vertical-align: middle;\n",
       "    }\n",
       "\n",
       "    .dataframe tbody tr th {\n",
       "        vertical-align: top;\n",
       "    }\n",
       "\n",
       "    .dataframe thead th {\n",
       "        text-align: right;\n",
       "    }\n",
       "</style>\n",
       "<table border=\"1\" class=\"dataframe\">\n",
       "  <thead>\n",
       "    <tr style=\"text-align: right;\">\n",
       "      <th></th>\n",
       "      <th>{\"message\":\"Bienvenue dans l'API du projet 7 - Impl\\u00e9mentez un mod\\u00e8le de scoring\"}</th>\n",
       "    </tr>\n",
       "  </thead>\n",
       "  <tbody>\n",
       "  </tbody>\n",
       "</table>\n",
       "</div>"
      ],
      "text/plain": [
       "Empty DataFrame\n",
       "Columns: [{\"message\":\"Bienvenue dans l'API du projet 7 - Impl\\u00e9mentez un mod\\u00e8le de scoring\"}]\n",
       "Index: []"
      ]
     },
     "execution_count": 35,
     "metadata": {},
     "output_type": "execute_result"
    }
   ],
   "source": [
    "#Pred"
   ]
  },
  {
   "cell_type": "code",
   "execution_count": 53,
   "id": "b1a95755-59be-42ea-bcd9-467270c29808",
   "metadata": {},
   "outputs": [],
   "source": [
    "testurl = api_url_predict + \"predict/\"\n",
    "pred_client = requests.get(testurl,data=json.dumps(data), headers=headers)\n",
    "pred_client = json.loads(pred_client.content)\n",
    "    # On transforme le dictionnaire en dataframe\n"
   ]
  },
  {
   "cell_type": "code",
   "execution_count": 55,
   "id": "acc9929d-4c70-4cb1-af53-e09c4e9e4df0",
   "metadata": {},
   "outputs": [
    {
     "data": {
      "text/plain": [
       "{'index': 4, 'prediction': '[0.09543501]'}"
      ]
     },
     "execution_count": 55,
     "metadata": {},
     "output_type": "execute_result"
    }
   ],
   "source": [
    "pred_client"
   ]
  }
 ],
 "metadata": {
  "kernelspec": {
   "display_name": "Python [conda env:base] *",
   "language": "python",
   "name": "conda-base-py"
  },
  "language_info": {
   "codemirror_mode": {
    "name": "ipython",
    "version": 3
   },
   "file_extension": ".py",
   "mimetype": "text/x-python",
   "name": "python",
   "nbconvert_exporter": "python",
   "pygments_lexer": "ipython3",
   "version": "3.12.3"
  }
 },
 "nbformat": 4,
 "nbformat_minor": 5
}
