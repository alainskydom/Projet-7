{
 "cells": [
  {
   "cell_type": "code",
   "execution_count": 1,
   "id": "6ffb7b43-36f4-408d-9d05-c0df92c32ca3",
   "metadata": {},
   "outputs": [],
   "source": [
    "from flask import request, jsonify\n",
    "import json\n",
    "import pickle\n",
    "import pandas as pd\n",
    "import numpy as np\n",
    "import pandas as pd\n",
    "import requests\n",
    "import io\n",
    "import sklearn\n",
    "import re"
   ]
  },
  {
   "cell_type": "code",
   "execution_count": 3,
   "id": "c735df5b-52ce-4c06-8476-33106d84331a",
   "metadata": {},
   "outputs": [],
   "source": [
    "df_ = pd.read_csv(\"df_.csv\")"
   ]
  },
  {
   "cell_type": "code",
   "execution_count": null,
   "id": "495d5d36-9b6d-4b2c-951f-19b432ecbecb",
   "metadata": {},
   "outputs": [],
   "source": []
  },
  {
   "cell_type": "code",
   "execution_count": 5,
   "id": "3af4ffb9-e6f8-46b3-9253-5e2d857f70e9",
   "metadata": {},
   "outputs": [],
   "source": [
    "client_id=3"
   ]
  },
  {
   "cell_type": "code",
   "execution_count": 7,
   "id": "c21aa384-355c-4fa4-a3a4-f85b5cc20dfb",
   "metadata": {},
   "outputs": [],
   "source": [
    "features = df_.loc[client_id, df_.columns].to_numpy().reshape(1, -1)"
   ]
  },
  {
   "cell_type": "code",
   "execution_count": 9,
   "id": "be2c39ef-0ac4-40be-b05b-3605ff93362c",
   "metadata": {},
   "outputs": [
    {
     "data": {
      "text/plain": [
       "array([[ 1.05328179e+01,  1.90050000e+04,  2.30000000e+01,\n",
       "        -3.03900000e+03,  0.00000000e+00,  0.00000000e+00,\n",
       "         0.00000000e+00,  0.00000000e+00,  0.00000000e+00,\n",
       "         0.00000000e+00,  1.00006000e+05,  0.00000000e+00]])"
      ]
     },
     "execution_count": 9,
     "metadata": {},
     "output_type": "execute_result"
    }
   ],
   "source": [
    "features"
   ]
  },
  {
   "cell_type": "code",
   "execution_count": 19,
   "id": "2650473c-3f60-4c44-a851-dcf9712b48cc",
   "metadata": {},
   "outputs": [],
   "source": [
    "# --- Define the API endpoint URL ---\n",
    "api_url_predict = \"https://projet-7-vjvq.onrender.com\""
   ]
  },
  {
   "cell_type": "code",
   "execution_count": 13,
   "id": "9f9bed24-2427-412d-b859-196085ac6145",
   "metadata": {},
   "outputs": [],
   "source": [
    "# --- Define the JSON payload ---\n",
    "data = {\"client_id\": \"3\"}"
   ]
  },
  {
   "cell_type": "code",
   "execution_count": 15,
   "id": "19391d21-c5f4-475b-b35a-7df64e1e8996",
   "metadata": {},
   "outputs": [],
   "source": [
    "# --- Set the headers ---\n",
    "headers = {\"Content-Type\": \"application/json\"}"
   ]
  },
  {
   "cell_type": "code",
   "execution_count": 23,
   "id": "2784384c-d00e-461b-8cdf-27a4884a8a4a",
   "metadata": {},
   "outputs": [
    {
     "name": "stdout",
     "output_type": "stream",
     "text": [
      "\n",
      "--- Testing /predict/ endpoint ---\n",
      "Error!\n",
      "Status code: 404\n",
      "Response text: <!doctype html>\n",
      "<html lang=en>\n",
      "<title>404 Not Found</title>\n",
      "<h1>Not Found</h1>\n",
      "<p>The requested URL was not found on the server. If you entered the URL manually please check your spelling and try again.</p>\n",
      "\n"
     ]
    }
   ],
   "source": [
    " print(\"\\n--- Testing /predict/ endpoint ---\")\n",
    "try:\n",
    "    response_download = requests.get(api_url_predict, data=json.dumps(data), headers=headers)\n",
    "\n",
    "    # Check the response status code\n",
    "    if response_download.status_code == 200:\n",
    "        print(\"Success! File downloaded.\")\n",
    "\n",
    "        # Get filename from the Content-Disposition header\n",
    "        content_disposition = response_download.headers.get(\"Content-Disposition\")\n",
    "        if content_disposition:\n",
    "            filename = content_disposition.split(\"filename=\")[1].strip('\"')\n",
    "        else:\n",
    "            filename = \"downloaded_prediction.csv\"  # Default filename\n",
    "\n",
    "        # Save the content to a file\n",
    "        with open(filename, \"wb\") as f:\n",
    "            f.write(response_download.content)\n",
    "        print(f\"File saved as: {filename}\")\n",
    "\n",
    "    else:\n",
    "        print(\"Error!\")\n",
    "        print(\"Status code:\", response_download.status_code)\n",
    "        print(\"Response text:\", response_download.text)\n",
    "\n",
    "except requests.exceptions.RequestException as e:\n",
    "    print(f\"An error occurred: {e}\")\n",
    "\n",
    "Pred = pd.read_csv(\"downloaded_prediction.csv\")"
   ]
  },
  {
   "cell_type": "code",
   "execution_count": 72,
   "id": "859d0176-c76f-423e-8c9c-0694f721cf18",
   "metadata": {},
   "outputs": [
    {
     "data": {
      "text/html": [
       "<div>\n",
       "<style scoped>\n",
       "    .dataframe tbody tr th:only-of-type {\n",
       "        vertical-align: middle;\n",
       "    }\n",
       "\n",
       "    .dataframe tbody tr th {\n",
       "        vertical-align: top;\n",
       "    }\n",
       "\n",
       "    .dataframe thead th {\n",
       "        text-align: right;\n",
       "    }\n",
       "</style>\n",
       "<table border=\"1\" class=\"dataframe\">\n",
       "  <thead>\n",
       "    <tr style=\"text-align: right;\">\n",
       "      <th></th>\n",
       "      <th>Hello from Flask!</th>\n",
       "    </tr>\n",
       "  </thead>\n",
       "  <tbody>\n",
       "  </tbody>\n",
       "</table>\n",
       "</div>"
      ],
      "text/plain": [
       "Empty DataFrame\n",
       "Columns: [Hello from Flask!]\n",
       "Index: []"
      ]
     },
     "execution_count": 72,
     "metadata": {},
     "output_type": "execute_result"
    }
   ],
   "source": [
    "Pred"
   ]
  }
 ],
 "metadata": {
  "kernelspec": {
   "display_name": "Python [conda env:base] *",
   "language": "python",
   "name": "conda-base-py"
  },
  "language_info": {
   "codemirror_mode": {
    "name": "ipython",
    "version": 3
   },
   "file_extension": ".py",
   "mimetype": "text/x-python",
   "name": "python",
   "nbconvert_exporter": "python",
   "pygments_lexer": "ipython3",
   "version": "3.12.3"
  }
 },
 "nbformat": 4,
 "nbformat_minor": 5
}
